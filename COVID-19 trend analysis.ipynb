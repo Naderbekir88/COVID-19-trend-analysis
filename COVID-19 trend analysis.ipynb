{
 "cells": [
  {
   "cell_type": "markdown",
   "metadata": {},
   "source": [
    "\n",
    "# Worldwide COVID-19 cases\n",
    "\n",
    "\n",
    "* You can download COVID-19-geographic-disbtribution dataset from here:https://github.com/DataRepo2019/Data-files/blob/master/COVID-19-geographic-disbtribution-worldwide-2020-06-29.xlsx\n",
    "\n",
    "## Table of Contents\n",
    "<ul>\n",
    "<li><a href=\"#intro\">Introduction</a></li>\n",
    "<li><a href=\"#wrangling\">Data Wrangling</a></li>\n",
    "<li><a href=\"#eda\">Exploratory Data Analysis</a></li>\n",
    "<li><a href=\"#conclusions\">Conclusions</a></li>\n",
    "</ul>"
   ]
  },
  {
   "cell_type": "markdown",
   "metadata": {},
   "source": [
    "<a id='intro'></a>\n",
    "## Introduction\n",
    "\n",
    "> **Tip**:The COVID-19-geographic-disbtribution dataset contains data about the geographic distribution of COVID-19 cases as of 29th June 2020 and capturing the number of cases and deaths for various countries across the world daily for the first six months in the year 2020\n",
    ">\n",
    ">The main Objective is : \n",
    "* Which are the countries with the worst mortality rates, maximum cases, and the most fatalities? \n",
    "2. What is the monthly trend vis-à-vis the number of cases and fatalities since the start of the pandemic?\n",
    "3. In some of the countries, lockdowns were imposed to help flatten the curve. Did this measure aid in reducing the number of cases?"
   ]
  },
  {
   "cell_type": "code",
   "execution_count": null,
   "metadata": {},
   "outputs": [],
   "source": [
    "# Load the necessary packages\n",
    "import numpy as np\n",
    "import pandas as pd\n",
    "#For Visualizations\n",
    "import seaborn as sns\n",
    "import matplotlib.pyplot as plt\n",
    "%matplotlib inline"
   ]
  },
  {
   "cell_type": "markdown",
   "metadata": {},
   "source": [
    "<a id='wrangling'></a>\n",
    "### Data Wrangling"
   ]
  },
  {
   "cell_type": "code",
   "execution_count": null,
   "metadata": {},
   "outputs": [],
   "source": [
    "df=pd.read_excel(r'C:\\Users\\Nader bekir\\OneDrive\\Nader bekir\\Projects\\Worldwide COVID-19/COVID-19-geographic-disbtribution-worldwide-2020-06-29 .xlsx')\n",
    "df.head()"
   ]
  },
  {
   "cell_type": "code",
   "execution_count": null,
   "metadata": {},
   "outputs": [],
   "source": [
    "df.info()"
   ]
  },
  {
   "cell_type": "code",
   "execution_count": null,
   "metadata": {},
   "outputs": [],
   "source": [
    "df.describe()"
   ]
  },
  {
   "cell_type": "code",
   "execution_count": null,
   "metadata": {},
   "outputs": [],
   "source": [
    "#changing the column names\n",
    "df.columns=['date','day','month','year','cases','deaths','country',\n",
    "'old_country_code','country_code','population','continent']"
   ]
  },
  {
   "cell_type": "code",
   "execution_count": null,
   "metadata": {},
   "outputs": [],
   "source": [
    "#Dropping the redundant column name\n",
    "df.drop(['old_country_code'],axis=1,inplace=True)"
   ]
  },
  {
   "cell_type": "markdown",
   "metadata": {},
   "source": [
    "> We see that there is data for only one\n",
    ">day in December 2019; hence we remove data for this month and\n",
    ">create a new DataFrame (df1) for the remaining 11 months."
   ]
  },
  {
   "cell_type": "code",
   "execution_count": null,
   "metadata": {},
   "outputs": [],
   "source": [
    "df1=df[df.month!=12]\n",
    "df1.head()"
   ]
  },
  {
   "cell_type": "code",
   "execution_count": null,
   "metadata": {},
   "outputs": [],
   "source": [
    "df1.isna().sum().sum()/len(df1)"
   ]
  },
  {
   "cell_type": "markdown",
   "metadata": {},
   "source": [
    "We see the percentage of null values is **less than 1%**, So we will drop the\n",
    "null values in the following step."
   ]
  },
  {
   "cell_type": "code",
   "execution_count": null,
   "metadata": {},
   "outputs": [],
   "source": [
    "df1.dropna(inplace=True)"
   ]
  },
  {
   "cell_type": "code",
   "execution_count": null,
   "metadata": {},
   "outputs": [],
   "source": [
    "#Aggregating the data by country name\n",
    "df_by_country=df1.groupby('country')['cases','deaths'].sum()\n",
    "df_by_country"
   ]
  },
  {
   "cell_type": "code",
   "execution_count": null,
   "metadata": {},
   "outputs": [],
   "source": [
    "#Adding a new column for the mortality rate which is the ratio of the number of deaths to cases\n",
    "df_by_country['mortality_rate']=df_by_country['deaths']/df_by_country['cases']\n",
    "df_by_country"
   ]
  },
  {
   "cell_type": "markdown",
   "metadata": {},
   "source": [
    "<a id='eda'></a>\n",
    "## Exploratory Data Analysis\n",
    "\n",
    "> **Tip**: Now that you've trimmed and cleaned your data, you're ready to move on to exploration. Compute statistics and create visualizations with the goal of addressing the research questions that you posed in the Introduction section. It is recommended that you be systematic with your approach. Look at one variable at a time, and then follow it up by looking at relationships between variables."
   ]
  },
  {
   "cell_type": "markdown",
   "metadata": {},
   "source": [
    "### what is the top twenty countries by mortality rate?"
   ]
  },
  {
   "cell_type": "code",
   "execution_count": null,
   "metadata": {},
   "outputs": [],
   "source": [
    "#Sorting the values for the mortality rate in the descending order\n",
    "plt.figure(figsize=(15,10));\n",
    "ax=df_by_country['mortality_rate'].sort_values(ascending=False).head(20).plot(kind='bar');\n",
    "ax.set_xticklabels(ax.get_xticklabels(), rotation=45, ha=\"right\");\n",
    "for p in ax.patches:\n",
    "    ax.annotate(p.get_height().round(2),(p.get_x()+p.get_width()/2,p.get_height()),ha='center',va='bottom')\n",
    "ax.set_xlabel(\"Country\")\n",
    "ax.set_ylabel(\"Mortality rate\")\n",
    "ax.set_title(\"Countries with highest mortality rates\")"
   ]
  },
  {
   "cell_type": "markdown",
   "metadata": {},
   "source": [
    "### what is the 10 countries with the highest number of  COVID-19 cases ?"
   ]
  },
  {
   "cell_type": "code",
   "execution_count": null,
   "metadata": {},
   "outputs": [],
   "source": [
    "#Pie chart showing the countries with the highest number of COVID cases\n",
    "df_cases=df_by_country['cases'].sort_values(ascending=False)\n",
    "ax=df_cases.head(10).plot(kind='pie',autopct='%.2f%%',labels=df_cases.index,figsize=(12,8));\n",
    "ax.set_title(\"Top ten countries by case load\");"
   ]
  },
  {
   "cell_type": "markdown",
   "metadata": {},
   "source": [
    "### what is the five countries that have suffered the most in terms of loss to human life from the COVID-19 pandemic ?"
   ]
  },
  {
   "cell_type": "code",
   "execution_count": null,
   "metadata": {},
   "outputs": [],
   "source": [
    "#sorting the number of deaths in the descending order\n",
    "plt.figure(figsize=(10,6))\n",
    "ax=df_by_country['deaths'].sort_values(ascending=False).head(5).plot(kind='bar')\n",
    "ax.set_xticklabels(ax.get_xticklabels(), rotation=45, ha=\"right\")\n",
    "\n",
    "for p in ax.patches:\n",
    "    ax.annotate(p.get_height(),(p.get_x()+p.get_width()/2,p.get_height()),ha='center',va='bottom')\n",
    "\n",
    "ax.set_title(\"Countries suffering the most fatalities from COVID-19\");\n",
    "ax.set_xlabel(\"Countries\")\n",
    "ax.set_ylabel(\"Number of deaths\")"
   ]
  },
  {
   "cell_type": "markdown",
   "metadata": {},
   "source": [
    "###  what is number of cases and deaths by month ?"
   ]
  },
  {
   "cell_type": "code",
   "execution_count": null,
   "metadata": {},
   "outputs": [],
   "source": [
    "df_by_month=df1.groupby('month')['cases','deaths'].sum()\n",
    "fig=plt.figure(figsize=(15,10))\n",
    "ax1=fig.add_subplot(1,2,1)\n",
    "ax2=fig.add_subplot(1,2,2)\n",
    "df_by_month['cases'].plot(kind='line',ax=ax1)\n",
    "\n",
    "ax1.set_title(\"Total COVID-19 cases across months in 2020\")\n",
    "ax1.set_xlabel(\"Months in 2020\")\n",
    "ax1.set_ylabel(\"Number of cases(in million)\")\n",
    "\n",
    "df_by_month['deaths'].plot(kind='line',ax=ax2)\n",
    "\n",
    "ax2.set_title(\"Total COVID-19 deaths across months in 2020\")\n",
    "ax2.set_xlabel(\"Months in 2020\")\n",
    "ax2.set_ylabel(\"Number of deaths\")"
   ]
  },
  {
   "cell_type": "markdown",
   "metadata": {},
   "source": [
    "## 3. In some of the countries, lockdowns were imposed to help flatten the curve. Did this measure aid in reducing the number of cases?"
   ]
  },
  {
   "cell_type": "code",
   "execution_count": null,
   "metadata": {},
   "outputs": [],
   "source": [
    "#Creating DataFrames for each country\n",
    "#Monthwise aggregated data for Germany\n",
    "df_germany=df1[df1.country=='Germany']\n",
    "df_germany_monthwise=df_germany.groupby('month')['cases','deaths'].sum()\n",
    "df_germany_grouped=df_germany_monthwise.reset_index()\n",
    "#Monthwise aggregated data for UK\n",
    "df_uk=df1[df1.country=='United_Kingdom']\n",
    "df_uk_monthwise=df_uk.groupby('month')['cases','deaths'].sum()\n",
    "df_uk_grouped=df_uk_monthwise.reset_index()\n",
    "#Monthwise aggregated data for India\n",
    "df_india=df1[df1.country=='India']\n",
    "df_india_monthwise=df_india.groupby('month')['cases','deaths'].sum()\n",
    "df_india_grouped=df_india_monthwise.reset_index()\n",
    "#Monthwise aggregated data for Italy\n",
    "df_italy=df1[df1.country=='Italy']\n",
    "df_italy_monthwise=df_italy.groupby('month')['cases','deaths'].sum()\n",
    "df_italy_grouped=df_italy_monthwise.reset_index()"
   ]
  },
  {
   "cell_type": "code",
   "execution_count": null,
   "metadata": {},
   "outputs": [],
   "source": [
    "#Plotting the data for four countries (UK, India, Italy and Germany) where lockdowns were imposed\n",
    "fig=plt.figure(figsize=(20,15))\n",
    "ax1=fig.add_subplot(2,2,1)\n",
    "df_uk_grouped.plot(kind='line',x='month',y='cases',ax=ax1)\n",
    "ax1.set_title(\"Cases in UK across months\")\n",
    "ax2=fig.add_subplot(2,2,2)\n",
    "df_india_grouped.plot(kind='line',x='month',y='cases',ax=ax2)\n",
    "ax2.set_title(\"Cases in India across months\")\n",
    "ax3=fig.add_subplot(2,2,3)\n",
    "df_italy_grouped.plot(kind='line',x='month',y='cases',ax=ax3)\n",
    "\n",
    "ax3.set_title(\"Cases in Italy across months\")\n",
    "ax4=fig.add_subplot(2,2,4)\n",
    "df_germany_grouped.plot(kind='line',x='month',y='cases',ax=ax4)\n",
    "ax4.set_title(\"Cases in Germany across months\")"
   ]
  },
  {
   "cell_type": "markdown",
   "metadata": {},
   "source": [
    "<a id='conclusions'></a>\n",
    "## Conclusions\n",
    "\n",
    "- Number of cases: The United States, Brazil, Russia, India, and the UK\n",
    "had the highest number of cases.\n",
    "- Number of deaths: The United States, Brazil, the UK, Italy, and\n",
    "France had the highest death tolls.\n",
    "- Mortality rate: Yemen, St. Maarten, France, Belgium, and Italy had\n",
    "the highest mortality rates.\n",
    "\n",
    "**Trends**:\n",
    "\n",
    "- The total number of cases has been increasing steadily, while\n",
    "the total number of fatalities (deaths) has shown a decrease after\n",
    "April.\n",
    "- Impact of lockdown: We analyzed four countries – India, the UK,\n",
    "Germany, and Italy – where lockdowns were imposed in March.\n",
    "Except for India, all these countries experienced an overall\n",
    "decrease in cases after the lockdown was imposed. In the UK and\n",
    "Germany, the cases went up initially (during the early phase of\n",
    "the lockdown) but started decreasing after this spike."
   ]
  },
  {
   "cell_type": "code",
   "execution_count": null,
   "metadata": {},
   "outputs": [],
   "source": []
  }
 ],
 "metadata": {
  "kernelspec": {
   "display_name": "Python 3",
   "language": "python",
   "name": "python3"
  },
  "language_info": {
   "codemirror_mode": {
    "name": "ipython",
    "version": 3
   },
   "file_extension": ".py",
   "mimetype": "text/x-python",
   "name": "python",
   "nbconvert_exporter": "python",
   "pygments_lexer": "ipython3",
   "version": "3.8.3"
  }
 },
 "nbformat": 4,
 "nbformat_minor": 4
}
